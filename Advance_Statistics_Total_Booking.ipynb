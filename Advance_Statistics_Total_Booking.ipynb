{
  "nbformat": 4,
  "nbformat_minor": 0,
  "metadata": {
    "kernelspec": {
      "display_name": "Python 3",
      "language": "python",
      "name": "python3"
    },
    "language_info": {
      "codemirror_mode": {
        "name": "ipython",
        "version": 3
      },
      "file_extension": ".py",
      "mimetype": "text/x-python",
      "name": "python",
      "nbconvert_exporter": "python",
      "pygments_lexer": "ipython3",
      "version": "3.7.4"
    },
    "colab": {
      "name": "Advance_Statistics_Total_Booking.ipynb",
      "provenance": []
    }
  },
  "cells": [
    {
      "cell_type": "markdown",
      "metadata": {
        "id": "yf3WQ1Q1RvMe",
        "colab_type": "text"
      },
      "source": [
        "### ***Prediction Of Total Booking On CAB Data***\n",
        "\n",
        "---\n",
        "\n"
      ]
    },
    {
      "cell_type": "code",
      "metadata": {
        "id": "t0KVSQ5dRvMf",
        "colab_type": "code",
        "colab": {}
      },
      "source": [
        "import pandas as pd\n",
        "import numpy as np\n",
        "import warnings \n",
        "warnings.simplefilter(\"ignore\")"
      ],
      "execution_count": 0,
      "outputs": []
    },
    {
      "cell_type": "code",
      "metadata": {
        "id": "_Da4capFRvMk",
        "colab_type": "code",
        "colab": {}
      },
      "source": [
        "from sklearn.metrics import mean_squared_error,r2_score"
      ],
      "execution_count": 0,
      "outputs": []
    },
    {
      "cell_type": "code",
      "metadata": {
        "id": "lfKSm8tMRvMp",
        "colab_type": "code",
        "colab": {},
        "outputId": "bc8a10cb-6616-48a6-88ca-a89681d4e3e9"
      },
      "source": [
        "import os\n",
        "os.getcwd()"
      ],
      "execution_count": 0,
      "outputs": [
        {
          "output_type": "execute_result",
          "data": {
            "text/plain": [
              "'C:\\\\Users\\\\Satyam\\\\PycharmProjects\\\\Coding_Solutions\\\\Mid-Project-1\\\\New Project'"
            ]
          },
          "metadata": {
            "tags": []
          },
          "execution_count": 4
        }
      ]
    },
    {
      "cell_type": "markdown",
      "metadata": {
        "id": "cBn4QLv3RvMu",
        "colab_type": "text"
      },
      "source": [
        "#### Load Train Data"
      ]
    },
    {
      "cell_type": "code",
      "metadata": {
        "id": "nHKhMXXZRvMv",
        "colab_type": "code",
        "colab": {}
      },
      "source": [
        "train_data=pd.read_csv(r'train.csv')\n",
        "train_label=pd.read_csv(r'train_label.csv',header=None)"
      ],
      "execution_count": 0,
      "outputs": []
    },
    {
      "cell_type": "markdown",
      "metadata": {
        "id": "up4RnAFJRvMy",
        "colab_type": "text"
      },
      "source": [
        "#### Load Test Data"
      ]
    },
    {
      "cell_type": "code",
      "metadata": {
        "id": "prLQFq3BRvMz",
        "colab_type": "code",
        "colab": {}
      },
      "source": [
        "test_data=pd.read_csv(r'test.csv')\n",
        "test_label=pd.read_csv(r'test_label.csv',header=None)"
      ],
      "execution_count": 0,
      "outputs": []
    },
    {
      "cell_type": "code",
      "metadata": {
        "id": "sqZ0f6b3RvM2",
        "colab_type": "code",
        "colab": {},
        "outputId": "5d226837-c745-4eae-fd87-44bb3d6f0d96"
      },
      "source": [
        "train_data.head()"
      ],
      "execution_count": 0,
      "outputs": [
        {
          "output_type": "execute_result",
          "data": {
            "text/html": [
              "<div>\n",
              "<style scoped>\n",
              "    .dataframe tbody tr th:only-of-type {\n",
              "        vertical-align: middle;\n",
              "    }\n",
              "\n",
              "    .dataframe tbody tr th {\n",
              "        vertical-align: top;\n",
              "    }\n",
              "\n",
              "    .dataframe thead th {\n",
              "        text-align: right;\n",
              "    }\n",
              "</style>\n",
              "<table border=\"1\" class=\"dataframe\">\n",
              "  <thead>\n",
              "    <tr style=\"text-align: right;\">\n",
              "      <th></th>\n",
              "      <th>datetime</th>\n",
              "      <th>season</th>\n",
              "      <th>holiday</th>\n",
              "      <th>workingday</th>\n",
              "      <th>weather</th>\n",
              "      <th>temp</th>\n",
              "      <th>atemp</th>\n",
              "      <th>humidity</th>\n",
              "      <th>windspeed</th>\n",
              "    </tr>\n",
              "  </thead>\n",
              "  <tbody>\n",
              "    <tr>\n",
              "      <th>0</th>\n",
              "      <td>5/2/2012 19:00</td>\n",
              "      <td>Summer</td>\n",
              "      <td>0</td>\n",
              "      <td>1</td>\n",
              "      <td>Clear + Few clouds</td>\n",
              "      <td>22.14</td>\n",
              "      <td>25.760</td>\n",
              "      <td>77</td>\n",
              "      <td>16.9979</td>\n",
              "    </tr>\n",
              "    <tr>\n",
              "      <th>1</th>\n",
              "      <td>9/5/2012 4:00</td>\n",
              "      <td>Fall</td>\n",
              "      <td>0</td>\n",
              "      <td>1</td>\n",
              "      <td>Clear + Few clouds</td>\n",
              "      <td>28.70</td>\n",
              "      <td>33.335</td>\n",
              "      <td>79</td>\n",
              "      <td>19.0012</td>\n",
              "    </tr>\n",
              "    <tr>\n",
              "      <th>2</th>\n",
              "      <td>1/13/2011 9:00</td>\n",
              "      <td>Spring</td>\n",
              "      <td>0</td>\n",
              "      <td>1</td>\n",
              "      <td>Clear + Few clouds</td>\n",
              "      <td>5.74</td>\n",
              "      <td>6.060</td>\n",
              "      <td>50</td>\n",
              "      <td>22.0028</td>\n",
              "    </tr>\n",
              "    <tr>\n",
              "      <th>3</th>\n",
              "      <td>11/18/2011 16:00</td>\n",
              "      <td>Winter</td>\n",
              "      <td>0</td>\n",
              "      <td>1</td>\n",
              "      <td>Clear + Few clouds</td>\n",
              "      <td>13.94</td>\n",
              "      <td>16.665</td>\n",
              "      <td>29</td>\n",
              "      <td>8.9981</td>\n",
              "    </tr>\n",
              "    <tr>\n",
              "      <th>4</th>\n",
              "      <td>9/13/2011 13:00</td>\n",
              "      <td>Fall</td>\n",
              "      <td>0</td>\n",
              "      <td>1</td>\n",
              "      <td>Clear + Few clouds</td>\n",
              "      <td>30.34</td>\n",
              "      <td>33.335</td>\n",
              "      <td>51</td>\n",
              "      <td>19.0012</td>\n",
              "    </tr>\n",
              "  </tbody>\n",
              "</table>\n",
              "</div>"
            ],
            "text/plain": [
              "           datetime  season  holiday  workingday              weather   temp  \\\n",
              "0    5/2/2012 19:00  Summer        0           1   Clear + Few clouds  22.14   \n",
              "1     9/5/2012 4:00    Fall        0           1   Clear + Few clouds  28.70   \n",
              "2    1/13/2011 9:00  Spring        0           1   Clear + Few clouds   5.74   \n",
              "3  11/18/2011 16:00  Winter        0           1   Clear + Few clouds  13.94   \n",
              "4   9/13/2011 13:00    Fall        0           1   Clear + Few clouds  30.34   \n",
              "\n",
              "    atemp  humidity  windspeed  \n",
              "0  25.760        77    16.9979  \n",
              "1  33.335        79    19.0012  \n",
              "2   6.060        50    22.0028  \n",
              "3  16.665        29     8.9981  \n",
              "4  33.335        51    19.0012  "
            ]
          },
          "metadata": {
            "tags": []
          },
          "execution_count": 7
        }
      ]
    },
    {
      "cell_type": "code",
      "metadata": {
        "id": "O-hGptMHRvM8",
        "colab_type": "code",
        "colab": {},
        "outputId": "27d9918c-424f-4dc7-da78-7a34af7c0196"
      },
      "source": [
        "train_label.head()"
      ],
      "execution_count": 0,
      "outputs": [
        {
          "output_type": "execute_result",
          "data": {
            "text/html": [
              "<div>\n",
              "<style scoped>\n",
              "    .dataframe tbody tr th:only-of-type {\n",
              "        vertical-align: middle;\n",
              "    }\n",
              "\n",
              "    .dataframe tbody tr th {\n",
              "        vertical-align: top;\n",
              "    }\n",
              "\n",
              "    .dataframe thead th {\n",
              "        text-align: right;\n",
              "    }\n",
              "</style>\n",
              "<table border=\"1\" class=\"dataframe\">\n",
              "  <thead>\n",
              "    <tr style=\"text-align: right;\">\n",
              "      <th></th>\n",
              "      <th>0</th>\n",
              "    </tr>\n",
              "  </thead>\n",
              "  <tbody>\n",
              "    <tr>\n",
              "      <th>0</th>\n",
              "      <td>504</td>\n",
              "    </tr>\n",
              "    <tr>\n",
              "      <th>1</th>\n",
              "      <td>5</td>\n",
              "    </tr>\n",
              "    <tr>\n",
              "      <th>2</th>\n",
              "      <td>139</td>\n",
              "    </tr>\n",
              "    <tr>\n",
              "      <th>3</th>\n",
              "      <td>209</td>\n",
              "    </tr>\n",
              "    <tr>\n",
              "      <th>4</th>\n",
              "      <td>184</td>\n",
              "    </tr>\n",
              "  </tbody>\n",
              "</table>\n",
              "</div>"
            ],
            "text/plain": [
              "     0\n",
              "0  504\n",
              "1    5\n",
              "2  139\n",
              "3  209\n",
              "4  184"
            ]
          },
          "metadata": {
            "tags": []
          },
          "execution_count": 8
        }
      ]
    },
    {
      "cell_type": "code",
      "metadata": {
        "id": "RExUX_4aRvNA",
        "colab_type": "code",
        "colab": {},
        "outputId": "06fa9b5e-82ba-4a70-e564-99b2c06cad7d"
      },
      "source": [
        "train_data[\"label\"]=train_label.values\n",
        "train_data.head()"
      ],
      "execution_count": 0,
      "outputs": [
        {
          "output_type": "execute_result",
          "data": {
            "text/html": [
              "<div>\n",
              "<style scoped>\n",
              "    .dataframe tbody tr th:only-of-type {\n",
              "        vertical-align: middle;\n",
              "    }\n",
              "\n",
              "    .dataframe tbody tr th {\n",
              "        vertical-align: top;\n",
              "    }\n",
              "\n",
              "    .dataframe thead th {\n",
              "        text-align: right;\n",
              "    }\n",
              "</style>\n",
              "<table border=\"1\" class=\"dataframe\">\n",
              "  <thead>\n",
              "    <tr style=\"text-align: right;\">\n",
              "      <th></th>\n",
              "      <th>datetime</th>\n",
              "      <th>season</th>\n",
              "      <th>holiday</th>\n",
              "      <th>workingday</th>\n",
              "      <th>weather</th>\n",
              "      <th>temp</th>\n",
              "      <th>atemp</th>\n",
              "      <th>humidity</th>\n",
              "      <th>windspeed</th>\n",
              "      <th>label</th>\n",
              "    </tr>\n",
              "  </thead>\n",
              "  <tbody>\n",
              "    <tr>\n",
              "      <th>0</th>\n",
              "      <td>5/2/2012 19:00</td>\n",
              "      <td>Summer</td>\n",
              "      <td>0</td>\n",
              "      <td>1</td>\n",
              "      <td>Clear + Few clouds</td>\n",
              "      <td>22.14</td>\n",
              "      <td>25.760</td>\n",
              "      <td>77</td>\n",
              "      <td>16.9979</td>\n",
              "      <td>504</td>\n",
              "    </tr>\n",
              "    <tr>\n",
              "      <th>1</th>\n",
              "      <td>9/5/2012 4:00</td>\n",
              "      <td>Fall</td>\n",
              "      <td>0</td>\n",
              "      <td>1</td>\n",
              "      <td>Clear + Few clouds</td>\n",
              "      <td>28.70</td>\n",
              "      <td>33.335</td>\n",
              "      <td>79</td>\n",
              "      <td>19.0012</td>\n",
              "      <td>5</td>\n",
              "    </tr>\n",
              "    <tr>\n",
              "      <th>2</th>\n",
              "      <td>1/13/2011 9:00</td>\n",
              "      <td>Spring</td>\n",
              "      <td>0</td>\n",
              "      <td>1</td>\n",
              "      <td>Clear + Few clouds</td>\n",
              "      <td>5.74</td>\n",
              "      <td>6.060</td>\n",
              "      <td>50</td>\n",
              "      <td>22.0028</td>\n",
              "      <td>139</td>\n",
              "    </tr>\n",
              "    <tr>\n",
              "      <th>3</th>\n",
              "      <td>11/18/2011 16:00</td>\n",
              "      <td>Winter</td>\n",
              "      <td>0</td>\n",
              "      <td>1</td>\n",
              "      <td>Clear + Few clouds</td>\n",
              "      <td>13.94</td>\n",
              "      <td>16.665</td>\n",
              "      <td>29</td>\n",
              "      <td>8.9981</td>\n",
              "      <td>209</td>\n",
              "    </tr>\n",
              "    <tr>\n",
              "      <th>4</th>\n",
              "      <td>9/13/2011 13:00</td>\n",
              "      <td>Fall</td>\n",
              "      <td>0</td>\n",
              "      <td>1</td>\n",
              "      <td>Clear + Few clouds</td>\n",
              "      <td>30.34</td>\n",
              "      <td>33.335</td>\n",
              "      <td>51</td>\n",
              "      <td>19.0012</td>\n",
              "      <td>184</td>\n",
              "    </tr>\n",
              "  </tbody>\n",
              "</table>\n",
              "</div>"
            ],
            "text/plain": [
              "           datetime  season  holiday  workingday              weather   temp  \\\n",
              "0    5/2/2012 19:00  Summer        0           1   Clear + Few clouds  22.14   \n",
              "1     9/5/2012 4:00    Fall        0           1   Clear + Few clouds  28.70   \n",
              "2    1/13/2011 9:00  Spring        0           1   Clear + Few clouds   5.74   \n",
              "3  11/18/2011 16:00  Winter        0           1   Clear + Few clouds  13.94   \n",
              "4   9/13/2011 13:00    Fall        0           1   Clear + Few clouds  30.34   \n",
              "\n",
              "    atemp  humidity  windspeed  label  \n",
              "0  25.760        77    16.9979    504  \n",
              "1  33.335        79    19.0012      5  \n",
              "2   6.060        50    22.0028    139  \n",
              "3  16.665        29     8.9981    209  \n",
              "4  33.335        51    19.0012    184  "
            ]
          },
          "metadata": {
            "tags": []
          },
          "execution_count": 33
        }
      ]
    },
    {
      "cell_type": "code",
      "metadata": {
        "id": "XzuXVSvwRvNE",
        "colab_type": "code",
        "colab": {},
        "outputId": "32e870bf-02eb-4fd4-8f30-d9203bd671e4"
      },
      "source": [
        "train_data.shape"
      ],
      "execution_count": 0,
      "outputs": [
        {
          "output_type": "execute_result",
          "data": {
            "text/plain": [
              "(8708, 10)"
            ]
          },
          "metadata": {
            "tags": []
          },
          "execution_count": 94
        }
      ]
    },
    {
      "cell_type": "markdown",
      "metadata": {
        "id": "hUBVyOoNRvNH",
        "colab_type": "text"
      },
      "source": [
        "### Checking For Data_Types"
      ]
    },
    {
      "cell_type": "code",
      "metadata": {
        "id": "kwUUNc5GRvNI",
        "colab_type": "code",
        "colab": {},
        "outputId": "03a1740d-4c64-4d8a-f105-ad73e1faadf4"
      },
      "source": [
        "train_data.dtypes"
      ],
      "execution_count": 0,
      "outputs": [
        {
          "output_type": "execute_result",
          "data": {
            "text/plain": [
              "datetime       object\n",
              "season         object\n",
              "holiday         int64\n",
              "workingday      int64\n",
              "weather        object\n",
              "temp          float64\n",
              "atemp         float64\n",
              "humidity        int64\n",
              "windspeed     float64\n",
              "label           int64\n",
              "dtype: object"
            ]
          },
          "metadata": {
            "tags": []
          },
          "execution_count": 95
        }
      ]
    },
    {
      "cell_type": "markdown",
      "metadata": {
        "id": "2pB_o54aRvNM",
        "colab_type": "text"
      },
      "source": [
        "### Missing Values Analysis"
      ]
    },
    {
      "cell_type": "code",
      "metadata": {
        "id": "JyfODU3JRvNN",
        "colab_type": "code",
        "colab": {},
        "outputId": "50578e14-d497-4887-e803-8990bd560114"
      },
      "source": [
        "train_data.isnull().any()"
      ],
      "execution_count": 0,
      "outputs": [
        {
          "output_type": "execute_result",
          "data": {
            "text/plain": [
              "datetime      False\n",
              "season        False\n",
              "holiday       False\n",
              "workingday    False\n",
              "weather       False\n",
              "temp          False\n",
              "atemp         False\n",
              "humidity      False\n",
              "windspeed     False\n",
              "label         False\n",
              "dtype: bool"
            ]
          },
          "metadata": {
            "tags": []
          },
          "execution_count": 96
        }
      ]
    },
    {
      "cell_type": "code",
      "metadata": {
        "id": "1u7bmOlPRvNR",
        "colab_type": "code",
        "colab": {},
        "outputId": "ce49b8fe-fce3-4e9d-f238-69d6ec4734ca"
      },
      "source": [
        "test_data.isnull().any()"
      ],
      "execution_count": 0,
      "outputs": [
        {
          "output_type": "execute_result",
          "data": {
            "text/plain": [
              "datetime      False\n",
              "season        False\n",
              "holiday       False\n",
              "workingday    False\n",
              "weather       False\n",
              "temp          False\n",
              "atemp         False\n",
              "humidity      False\n",
              "windspeed     False\n",
              "dtype: bool"
            ]
          },
          "metadata": {
            "tags": []
          },
          "execution_count": 97
        }
      ]
    },
    {
      "cell_type": "markdown",
      "metadata": {
        "id": "ZCy6P6KARvNU",
        "colab_type": "text"
      },
      "source": [
        "#### There is No Null Values in any Column"
      ]
    },
    {
      "cell_type": "markdown",
      "metadata": {
        "id": "gpknkDHQRvNV",
        "colab_type": "text"
      },
      "source": [
        "### Making Date Column into datetime format"
      ]
    },
    {
      "cell_type": "code",
      "metadata": {
        "id": "jFu_ROToRvNW",
        "colab_type": "code",
        "colab": {}
      },
      "source": [
        "train_data[\"datetime\"]=pd.to_datetime(train_data[\"datetime\"])"
      ],
      "execution_count": 0,
      "outputs": []
    },
    {
      "cell_type": "markdown",
      "metadata": {
        "id": "J3-w0HHJRvNY",
        "colab_type": "text"
      },
      "source": [
        "### Season"
      ]
    },
    {
      "cell_type": "code",
      "metadata": {
        "id": "1onwphdpRvNZ",
        "colab_type": "code",
        "colab": {},
        "outputId": "0601ff9b-0664-4244-8af8-7280db18c972"
      },
      "source": [
        "train_data[\"season\"].unique()"
      ],
      "execution_count": 0,
      "outputs": [
        {
          "output_type": "execute_result",
          "data": {
            "text/plain": [
              "array(['Summer', 'Fall', 'Spring', 'Winter'], dtype=object)"
            ]
          },
          "metadata": {
            "tags": []
          },
          "execution_count": 11
        }
      ]
    },
    {
      "cell_type": "code",
      "metadata": {
        "id": "apK9N6fZRvNc",
        "colab_type": "code",
        "colab": {},
        "outputId": "53e6f295-8db1-49f9-b189-bfb1989cec41"
      },
      "source": [
        "test_data[\"season\"].unique()"
      ],
      "execution_count": 0,
      "outputs": [
        {
          "output_type": "execute_result",
          "data": {
            "text/plain": [
              "array(['Summer', 'Spring', 'Winter', 'Fall'], dtype=object)"
            ]
          },
          "metadata": {
            "tags": []
          },
          "execution_count": 12
        }
      ]
    },
    {
      "cell_type": "markdown",
      "metadata": {
        "id": "_TDYDjpsRvNg",
        "colab_type": "text"
      },
      "source": [
        "### Weather"
      ]
    },
    {
      "cell_type": "code",
      "metadata": {
        "id": "GwOQXf75RvNg",
        "colab_type": "code",
        "colab": {},
        "outputId": "f69c4f50-dd8f-4b87-c072-8c5eae3ad13d"
      },
      "source": [
        "train_data[\"weather\"].unique()"
      ],
      "execution_count": 0,
      "outputs": [
        {
          "output_type": "execute_result",
          "data": {
            "text/plain": [
              "array([' Clear + Few clouds', ' Light Snow, Light Rain',\n",
              "       ' Mist + Cloudy ', ' Heavy Rain + Thunderstorm '], dtype=object)"
            ]
          },
          "metadata": {
            "tags": []
          },
          "execution_count": 13
        }
      ]
    },
    {
      "cell_type": "code",
      "metadata": {
        "id": "nKFBNuZTRvNl",
        "colab_type": "code",
        "colab": {},
        "outputId": "0455b489-f967-443c-9b24-b1a145915524"
      },
      "source": [
        "test_data[\"weather\"].unique()"
      ],
      "execution_count": 0,
      "outputs": [
        {
          "output_type": "execute_result",
          "data": {
            "text/plain": [
              "array([' Clear + Few clouds', ' Light Snow, Light Rain',\n",
              "       ' Mist + Cloudy '], dtype=object)"
            ]
          },
          "metadata": {
            "tags": []
          },
          "execution_count": 14
        }
      ]
    },
    {
      "cell_type": "markdown",
      "metadata": {
        "id": "dLCRtnNpRvNn",
        "colab_type": "text"
      },
      "source": [
        "#### There Is No Weather Of type  ' Heavy Rain + Thunderstorm ' in Test Data"
      ]
    },
    {
      "cell_type": "markdown",
      "metadata": {
        "id": "IO6MvedORvNo",
        "colab_type": "text"
      },
      "source": [
        "### Removing Weather Not In Test Data"
      ]
    },
    {
      "cell_type": "code",
      "metadata": {
        "id": "qIWi8iAhRvNo",
        "colab_type": "code",
        "colab": {}
      },
      "source": [
        "train_data=train_data[train_data.weather!=' Heavy Rain + Thunderstorm ']"
      ],
      "execution_count": 0,
      "outputs": []
    },
    {
      "cell_type": "markdown",
      "metadata": {
        "id": "lJJdyFsZRvNt",
        "colab_type": "text"
      },
      "source": [
        "### Data_Visualisation On Train_Data"
      ]
    },
    {
      "cell_type": "code",
      "metadata": {
        "id": "BiCiD5iORvNt",
        "colab_type": "code",
        "colab": {}
      },
      "source": [
        "import matplotlib.pyplot as plt\n",
        "import seaborn as sns\n",
        "%matplotlib inline"
      ],
      "execution_count": 0,
      "outputs": []
    },
    {
      "cell_type": "code",
      "metadata": {
        "id": "n_2oQ7UWRvNx",
        "colab_type": "code",
        "colab": {},
        "outputId": "3475fe1b-5f15-4d00-c409-88f023ae3522"
      },
      "source": [
        "train_data.columns,test_data.columns"
      ],
      "execution_count": 0,
      "outputs": [
        {
          "output_type": "execute_result",
          "data": {
            "text/plain": [
              "(Index(['datetime', 'season', 'holiday', 'workingday', 'weather', 'temp',\n",
              "        'atemp', 'humidity', 'windspeed', 'label'],\n",
              "       dtype='object'),\n",
              " Index(['datetime', 'season', 'holiday', 'workingday', 'weather', 'temp',\n",
              "        'atemp', 'humidity', 'windspeed'],\n",
              "       dtype='object'))"
            ]
          },
          "metadata": {
            "tags": []
          },
          "execution_count": 37
        }
      ]
    },
    {
      "cell_type": "markdown",
      "metadata": {
        "id": "Cg9rPuU0RvN0",
        "colab_type": "text"
      },
      "source": [
        "### Data Distribution"
      ]
    },
    {
      "cell_type": "code",
      "metadata": {
        "id": "tHt02LWuRvN1",
        "colab_type": "code",
        "colab": {}
      },
      "source": [
        "date_series=train_data[[\"datetime\",\"label\"]]\n",
        "date_series=date_series.set_index(\"datetime\")\n",
        "resample=date_series.resample(\"M\")[\"label\"].sum()"
      ],
      "execution_count": 0,
      "outputs": []
    },
    {
      "cell_type": "code",
      "metadata": {
        "id": "P2EiLmx-RvN4",
        "colab_type": "code",
        "colab": {},
        "outputId": "e718fbe9-15df-4684-ffbe-fbcabc5076f1"
      },
      "source": [
        "sns.distplot(resample)\n",
        "plt.tick_params(axis=\"x\",rotation=45)"
      ],
      "execution_count": 0,
      "outputs": [
        {
          "output_type": "display_data",
          "data": {
            "image/png": "[encoded data removed]",
            "text/plain": [
              "<Figure size 432x288 with 1 Axes>"
            ]
          },
          "metadata": {
            "tags": [],
            "needs_background": "light"
          }
        }
      ]
    },
    {
      "cell_type": "code",
      "metadata": {
        "id": "ASACTey8RvN9",
        "colab_type": "code",
        "colab": {},
        "outputId": "b1f37584-41de-4349-c3fd-5927928b7f0d"
      },
      "source": [
        "sns.barplot(resample.index.year,resample,estimator=np.sum)\n",
        "plt.tick_params(axis=\"x\",rotation=45)\n",
        "plt.ylabel(\"Total Bookings\",color=\"blue\",fontsize=15)\n",
        "plt.xlabel(\"Year\",color=\"blue\",fontsize=15)"
      ],
      "execution_count": 0,
      "outputs": [
        {
          "output_type": "execute_result",
          "data": {
            "text/plain": [
              "Text(0.5, 0, 'Year')"
            ]
          },
          "metadata": {
            "tags": []
          },
          "execution_count": 19
        },
        {
          "output_type": "display_data",
          "data": {
            "image/png": "[encoded data removed]",
            "text/plain": [
              "<Figure size 432x288 with 1 Axes>"
            ]
          },
          "metadata": {
            "tags": [],
            "needs_background": "light"
          }
        }
      ]
    },
    {
      "cell_type": "markdown",
      "metadata": {
        "id": "5mpLsg1wRvOC",
        "colab_type": "text"
      },
      "source": [
        "#### Total Booking  is increased from year 2011 to 2012"
      ]
    },
    {
      "cell_type": "code",
      "metadata": {
        "id": "LtD8Z9P6RvOD",
        "colab_type": "code",
        "colab": {},
        "outputId": "8ec0afd6-474d-4b7f-89a4-f90ded575a50"
      },
      "source": [
        "resample=date_series.resample(\"y\")[\"label\"].sum()\n",
        "print(resample)\n",
        "a=resample[0]\n",
        "b=resample[1]\n",
        "percent=(b-a)/a\n",
        "print(\"Percentage increase in Bookings is:\",round(percent*100,2))"
      ],
      "execution_count": 0,
      "outputs": [
        {
          "output_type": "stream",
          "text": [
            "datetime\n",
            "2011-12-31     621243\n",
            "2012-12-31    1059298\n",
            "Freq: A-DEC, Name: label, dtype: int64\n",
            "Percentage increase in Bookings is: 70.51\n"
          ],
          "name": "stdout"
        }
      ]
    },
    {
      "cell_type": "markdown",
      "metadata": {
        "id": "I8Uk0yAURvOG",
        "colab_type": "text"
      },
      "source": [
        "#### Season_wise Total Booking"
      ]
    },
    {
      "cell_type": "code",
      "metadata": {
        "id": "nfksJsSdRvOH",
        "colab_type": "code",
        "colab": {},
        "outputId": "9dc7eaf0-c553-4341-c722-e0ad3c7834a1"
      },
      "source": [
        "data=train_data[[(i.year==2011) for i in train_data[\"datetime\"]]]\n",
        "sns.pointplot(x=\"season\",y=\"label\",data=data,estimator=np.sum,label=\"2011\",color=\"red\")\n",
        "plt.tick_params(axis=\"x\",rotation=45)\n",
        "data=train_data[[(i.year==2012) for i in train_data[\"datetime\"]]]\n",
        "sns.pointplot(x=\"season\",y=\"label\",data=data,estimator=np.sum,label=\"2012\",color=\"green\")\n",
        "plt.ylabel(\"Total Bookings\",color=\"blue\",fontsize=15)\n",
        "plt.xlabel(\"Seasons\",color=\"blue\",fontsize=15)"
      ],
      "execution_count": 0,
      "outputs": [
        {
          "output_type": "execute_result",
          "data": {
            "text/plain": [
              "Text(0.5, 0, 'Seasons')"
            ]
          },
          "metadata": {
            "tags": []
          },
          "execution_count": 20
        },
        {
          "output_type": "display_data",
          "data": {
            "image/png": "[encoded data removed]",
            "text/plain": [
              "<Figure size 432x288 with 1 Axes>"
            ]
          },
          "metadata": {
            "tags": [],
            "needs_background": "light"
          }
        }
      ]
    },
    {
      "cell_type": "code",
      "metadata": {
        "id": "pfdifLDkRvOK",
        "colab_type": "code",
        "colab": {},
        "outputId": "260cfbd1-d764-41db-9eb8-7b7924d1f2d8"
      },
      "source": [
        "data=train_data[[(i.year==2011) for i in train_data[\"datetime\"]]]\n",
        "sns.pointplot(x=\"season\",y=\"label\",data=data,estimator=np.size,label=\"2011\",color=\"red\")\n",
        "plt.tick_params(axis=\"x\",rotation=45)\n",
        "data=train_data[[(i.year==2012) for i in train_data[\"datetime\"]]]\n",
        "sns.pointplot(x=\"season\",y=\"label\",data=data,estimator=np.size,label=\"2012\",color=\"green\")\n",
        "plt.ylabel(\"Total Bookings Days\",color=\"blue\",fontsize=15)\n",
        "plt.xlabel(\"Seasons\",color=\"blue\",fontsize=15)"
      ],
      "execution_count": 0,
      "outputs": [
        {
          "output_type": "execute_result",
          "data": {
            "text/plain": [
              "Text(0.5, 0, 'Seasons')"
            ]
          },
          "metadata": {
            "tags": []
          },
          "execution_count": 182
        },
        {
          "output_type": "display_data",
          "data": {
            "image/png": "[encoded data removed]",
            "text/plain": [
              "<Figure size 432x288 with 1 Axes>"
            ]
          },
          "metadata": {
            "tags": [],
            "needs_background": "light"
          }
        }
      ]
    },
    {
      "cell_type": "markdown",
      "metadata": {
        "id": "OED62aFzRvOO",
        "colab_type": "text"
      },
      "source": [
        "### Weather_wise Total Booking"
      ]
    },
    {
      "cell_type": "code",
      "metadata": {
        "id": "08gbU_95RvOO",
        "colab_type": "code",
        "colab": {},
        "outputId": "a7bbbada-8522-401c-b129-dcf1299dc784"
      },
      "source": [
        "data=train_data[[(i.year==2011) for i in train_data[\"datetime\"]]]\n",
        "sns.pointplot(x=\"weather\",y=\"label\",data=data,estimator=np.sum,labels=\"year_2011\",color=\"red\")\n",
        "plt.tick_params(axis=\"x\",rotation=45)\n",
        "data=train_data[[(i.year==2012) for i in train_data[\"datetime\"]]]\n",
        "sns.pointplot(x=\"weather\",y=\"label\",data=data,estimator=np.sum,labels=\"year_2012\",color=\"green\")\n",
        "plt.ylabel(\"Total Bookings\",color=\"blue\",fontsize=15)\n",
        "plt.xlabel(\"Weather\",color=\"blue\",fontsize=15)"
      ],
      "execution_count": 0,
      "outputs": [
        {
          "output_type": "execute_result",
          "data": {
            "text/plain": [
              "Text(0.5, 0, 'Weather')"
            ]
          },
          "metadata": {
            "tags": []
          },
          "execution_count": 21
        },
        {
          "output_type": "display_data",
          "data": {
            "image/png": "[encoded data removed]",
            "text/plain": [
              "<Figure size 432x288 with 1 Axes>"
            ]
          },
          "metadata": {
            "tags": [],
            "needs_background": "light"
          }
        }
      ]
    },
    {
      "cell_type": "code",
      "metadata": {
        "id": "fDEU2xORRvOS",
        "colab_type": "code",
        "colab": {},
        "outputId": "89034728-42ca-43e1-df0f-5a066c007e93"
      },
      "source": [
        "data=train_data[[(i.year==2011) for i in train_data[\"datetime\"]]]\n",
        "sns.pointplot(x=\"weather\",y=\"label\",data=data,estimator=np.size,label=\"2011\",color=\"red\")\n",
        "plt.tick_params(axis=\"x\",rotation=45)\n",
        "data=train_data[[(i.year==2012) for i in train_data[\"datetime\"]]]\n",
        "sns.pointplot(x=\"weather\",y=\"label\",data=data,estimator=np.size,label=\"2012\",color=\"green\")\n",
        "plt.ylabel(\"Total Bookings Days\",color=\"blue\",fontsize=15)\n",
        "plt.xlabel(\"Weather\",color=\"blue\",fontsize=15)"
      ],
      "execution_count": 0,
      "outputs": [
        {
          "output_type": "execute_result",
          "data": {
            "text/plain": [
              "Text(0.5, 0, 'Weather')"
            ]
          },
          "metadata": {
            "tags": []
          },
          "execution_count": 185
        },
        {
          "output_type": "display_data",
          "data": {
            "image/png": "[encoded data removed]",
            "text/plain": [
              "<Figure size 432x288 with 1 Axes>"
            ]
          },
          "metadata": {
            "tags": [],
            "needs_background": "light"
          }
        }
      ]
    },
    {
      "cell_type": "markdown",
      "metadata": {
        "id": "LXephB06RvOW",
        "colab_type": "text"
      },
      "source": [
        "### Holiday and Woking day"
      ]
    },
    {
      "cell_type": "code",
      "metadata": {
        "id": "kue4khBfRvOX",
        "colab_type": "code",
        "colab": {},
        "outputId": "f9cd59cd-02ab-45d4-ba1f-8aa62f1c1960"
      },
      "source": [
        "sns.countplot(data=train_data,hue=\"holiday\",x=\"workingday\")"
      ],
      "execution_count": 0,
      "outputs": [
        {
          "output_type": "execute_result",
          "data": {
            "text/plain": [
              "<matplotlib.axes._subplots.AxesSubplot at 0xee2f1bed08>"
            ]
          },
          "metadata": {
            "tags": []
          },
          "execution_count": 22
        },
        {
          "output_type": "display_data",
          "data": {
            "image/png": "[encoded data removed]",
            "text/plain": [
              "<Figure size 432x288 with 1 Axes>"
            ]
          },
          "metadata": {
            "tags": [],
            "needs_background": "light"
          }
        }
      ]
    },
    {
      "cell_type": "markdown",
      "metadata": {
        "id": "K38b8gWrRvOd",
        "colab_type": "text"
      },
      "source": [
        "#### As it can be seen that Working Day is Zero Even When there is not a Holiday"
      ]
    },
    {
      "cell_type": "markdown",
      "metadata": {
        "id": "2jcklHldRvOe",
        "colab_type": "text"
      },
      "source": [
        "### Pie-Chart Showing Total Booking on Various Days"
      ]
    },
    {
      "cell_type": "code",
      "metadata": {
        "id": "JEJeTFSHRvOe",
        "colab_type": "code",
        "colab": {},
        "outputId": "88d93783-732a-4241-afa5-f13ac3e537e2"
      },
      "source": [
        "labels = 'Holidays', 'Working Day', 'Neither Holiday nor WorkingDay'\n",
        "H=train_data[train_data[\"holiday\"]==1][\"label\"].sum()\n",
        "W=train_data[train_data[\"workingday\"]==1][\"label\"].sum()\n",
        "NB=train_data[(train_data[\"workingday\"]==0)&(train_data[\"holiday\"]==0)][\"label\"].sum()\n",
        "sizes = [H, W, NB]\n",
        "explode = (0, 0, 0.1)\n",
        "fig1, ax1 = plt.subplots()\n",
        "ax1.pie(sizes, explode=explode, labels=labels, autopct='%1.1f%%',\n",
        "        shadow=True, startangle=90)\n",
        "ax1.axis('equal')\n",
        "plt.title(\"Total Bookings\",color=\"red\")\n",
        "plt.show()"
      ],
      "execution_count": 0,
      "outputs": [
        {
          "output_type": "display_data",
          "data": {
            "image/png": "[encoded data removed]",
            "text/plain": [
              "<Figure size 432x288 with 1 Axes>"
            ]
          },
          "metadata": {
            "tags": []
          }
        }
      ]
    },
    {
      "cell_type": "markdown",
      "metadata": {
        "id": "q7lAzpXqRvOh",
        "colab_type": "text"
      },
      "source": [
        "#### Neither Holiday nor Working Day is Almost 29% Of Total Bookings that is  Likely to Be Cancelled Or Not Addressed \n"
      ]
    },
    {
      "cell_type": "markdown",
      "metadata": {
        "id": "cGCaHUCVRvOi",
        "colab_type": "text"
      },
      "source": [
        "### Regression Plot For continuous Variables To See Behaviour Of Various Explainatory variable On Bookings"
      ]
    },
    {
      "cell_type": "code",
      "metadata": {
        "id": "Q8VLsBJYRvOi",
        "colab_type": "code",
        "colab": {},
        "outputId": "8b2e56c8-d34d-46fe-de94-7c6bbe2d273a"
      },
      "source": [
        "import statsmodels.api as sm\n",
        "from statsmodels.formula.api import ols\n",
        "model_ols = ols(\"label ~ temp + windspeed  + humidity\", data=train_data).fit()\n",
        "fig = plt.figure(figsize=(12,8))\n",
        "fig = sm.graphics.plot_partregress_grid(model_ols, fig=fig)"
      ],
      "execution_count": 0,
      "outputs": [
        {
          "output_type": "display_data",
          "data": {
            "image/png": "[encoded data removed]",
            "text/plain": [
              "<Figure size 864x576 with 4 Axes>"
            ]
          },
          "metadata": {
            "tags": [],
            "needs_background": "light"
          }
        }
      ]
    },
    {
      "cell_type": "markdown",
      "metadata": {
        "id": "fZpAQ80eRvOl",
        "colab_type": "text"
      },
      "source": [
        "### Correlation Analysis"
      ]
    },
    {
      "cell_type": "code",
      "metadata": {
        "id": "UkRGG0tRRvOm",
        "colab_type": "code",
        "colab": {},
        "outputId": "05ef1422-c216-4bd7-a3b8-41cd556babcf"
      },
      "source": [
        "corr_mat=train_data.corr()\n",
        "sns.heatmap(corr_mat,annot=True,)"
      ],
      "execution_count": 0,
      "outputs": [
        {
          "output_type": "execute_result",
          "data": {
            "text/plain": [
              "<matplotlib.axes._subplots.AxesSubplot at 0xee30eed4c8>"
            ]
          },
          "metadata": {
            "tags": []
          },
          "execution_count": 25
        },
        {
          "output_type": "display_data",
          "data": {
            "image/png": "[encoded data removed]",
            "text/plain": [
              "<Figure size 432x288 with 2 Axes>"
            ]
          },
          "metadata": {
            "tags": [],
            "needs_background": "light"
          }
        }
      ]
    },
    {
      "cell_type": "markdown",
      "metadata": {
        "id": "Y7BnGIdaRvOo",
        "colab_type": "text"
      },
      "source": [
        "#### Variables temp and atemp is Highly Correlated"
      ]
    },
    {
      "cell_type": "markdown",
      "metadata": {
        "id": "ZJR9LjmHRvOp",
        "colab_type": "text"
      },
      "source": [
        "## Feature Importances"
      ]
    },
    {
      "cell_type": "markdown",
      "metadata": {
        "id": "XiclztANRvOq",
        "colab_type": "text"
      },
      "source": [
        "### Label Encoding "
      ]
    },
    {
      "cell_type": "code",
      "metadata": {
        "id": "_nGqGrAcRvOq",
        "colab_type": "code",
        "colab": {}
      },
      "source": [
        "from sklearn.preprocessing import LabelEncoder\n",
        "encoder=LabelEncoder()\n",
        "train_data[\"season\"]=encoder.fit_transform(train_data[\"season\"])\n",
        "train_data[\"weather\"]=encoder.fit_transform(train_data[\"weather\"])\n",
        "test_data[\"season\"]=encoder.fit_transform(test_data[\"season\"])\n",
        "test_data[\"weather\"]=encoder.fit_transform(test_data[\"weather\"])"
      ],
      "execution_count": 0,
      "outputs": []
    },
    {
      "cell_type": "markdown",
      "metadata": {
        "id": "k9_9MMuSRvOt",
        "colab_type": "text"
      },
      "source": [
        "### Get_Dummies"
      ]
    },
    {
      "cell_type": "code",
      "metadata": {
        "id": "bFCz7E66RvOu",
        "colab_type": "code",
        "colab": {},
        "outputId": "e619bd84-81e6-477c-fe13-4fc280401392"
      },
      "source": [
        "Train_data=pd.get_dummies(train_data)\n",
        "Test_data=pd.get_dummies(test_data.drop(\"datetime\",axis=1))\n",
        "Train_data.head()"
      ],
      "execution_count": 0,
      "outputs": [
        {
          "output_type": "execute_result",
          "data": {
            "text/html": [
              "<div>\n",
              "<style scoped>\n",
              "    .dataframe tbody tr th:only-of-type {\n",
              "        vertical-align: middle;\n",
              "    }\n",
              "\n",
              "    .dataframe tbody tr th {\n",
              "        vertical-align: top;\n",
              "    }\n",
              "\n",
              "    .dataframe thead th {\n",
              "        text-align: right;\n",
              "    }\n",
              "</style>\n",
              "<table border=\"1\" class=\"dataframe\">\n",
              "  <thead>\n",
              "    <tr style=\"text-align: right;\">\n",
              "      <th></th>\n",
              "      <th>datetime</th>\n",
              "      <th>holiday</th>\n",
              "      <th>workingday</th>\n",
              "      <th>temp</th>\n",
              "      <th>atemp</th>\n",
              "      <th>humidity</th>\n",
              "      <th>windspeed</th>\n",
              "      <th>label</th>\n",
              "      <th>season_Fall</th>\n",
              "      <th>season_Spring</th>\n",
              "      <th>season_Summer</th>\n",
              "      <th>season_Winter</th>\n",
              "      <th>weather_ Clear + Few clouds</th>\n",
              "      <th>weather_ Light Snow, Light Rain</th>\n",
              "      <th>weather_ Mist + Cloudy</th>\n",
              "    </tr>\n",
              "  </thead>\n",
              "  <tbody>\n",
              "    <tr>\n",
              "      <th>0</th>\n",
              "      <td>2012-05-02 19:00:00</td>\n",
              "      <td>0</td>\n",
              "      <td>1</td>\n",
              "      <td>22.14</td>\n",
              "      <td>25.760</td>\n",
              "      <td>77</td>\n",
              "      <td>16.9979</td>\n",
              "      <td>504</td>\n",
              "      <td>0</td>\n",
              "      <td>0</td>\n",
              "      <td>1</td>\n",
              "      <td>0</td>\n",
              "      <td>1</td>\n",
              "      <td>0</td>\n",
              "      <td>0</td>\n",
              "    </tr>\n",
              "    <tr>\n",
              "      <th>1</th>\n",
              "      <td>2012-09-05 04:00:00</td>\n",
              "      <td>0</td>\n",
              "      <td>1</td>\n",
              "      <td>28.70</td>\n",
              "      <td>33.335</td>\n",
              "      <td>79</td>\n",
              "      <td>19.0012</td>\n",
              "      <td>5</td>\n",
              "      <td>1</td>\n",
              "      <td>0</td>\n",
              "      <td>0</td>\n",
              "      <td>0</td>\n",
              "      <td>1</td>\n",
              "      <td>0</td>\n",
              "      <td>0</td>\n",
              "    </tr>\n",
              "    <tr>\n",
              "      <th>2</th>\n",
              "      <td>2011-01-13 09:00:00</td>\n",
              "      <td>0</td>\n",
              "      <td>1</td>\n",
              "      <td>5.74</td>\n",
              "      <td>6.060</td>\n",
              "      <td>50</td>\n",
              "      <td>22.0028</td>\n",
              "      <td>139</td>\n",
              "      <td>0</td>\n",
              "      <td>1</td>\n",
              "      <td>0</td>\n",
              "      <td>0</td>\n",
              "      <td>1</td>\n",
              "      <td>0</td>\n",
              "      <td>0</td>\n",
              "    </tr>\n",
              "    <tr>\n",
              "      <th>3</th>\n",
              "      <td>2011-11-18 16:00:00</td>\n",
              "      <td>0</td>\n",
              "      <td>1</td>\n",
              "      <td>13.94</td>\n",
              "      <td>16.665</td>\n",
              "      <td>29</td>\n",
              "      <td>8.9981</td>\n",
              "      <td>209</td>\n",
              "      <td>0</td>\n",
              "      <td>0</td>\n",
              "      <td>0</td>\n",
              "      <td>1</td>\n",
              "      <td>1</td>\n",
              "      <td>0</td>\n",
              "      <td>0</td>\n",
              "    </tr>\n",
              "    <tr>\n",
              "      <th>4</th>\n",
              "      <td>2011-09-13 13:00:00</td>\n",
              "      <td>0</td>\n",
              "      <td>1</td>\n",
              "      <td>30.34</td>\n",
              "      <td>33.335</td>\n",
              "      <td>51</td>\n",
              "      <td>19.0012</td>\n",
              "      <td>184</td>\n",
              "      <td>1</td>\n",
              "      <td>0</td>\n",
              "      <td>0</td>\n",
              "      <td>0</td>\n",
              "      <td>1</td>\n",
              "      <td>0</td>\n",
              "      <td>0</td>\n",
              "    </tr>\n",
              "  </tbody>\n",
              "</table>\n",
              "</div>"
            ],
            "text/plain": [
              "             datetime  holiday  workingday   temp   atemp  humidity  \\\n",
              "0 2012-05-02 19:00:00        0           1  22.14  25.760        77   \n",
              "1 2012-09-05 04:00:00        0           1  28.70  33.335        79   \n",
              "2 2011-01-13 09:00:00        0           1   5.74   6.060        50   \n",
              "3 2011-11-18 16:00:00        0           1  13.94  16.665        29   \n",
              "4 2011-09-13 13:00:00        0           1  30.34  33.335        51   \n",
              "\n",
              "   windspeed  label  season_Fall  season_Spring  season_Summer  season_Winter  \\\n",
              "0    16.9979    504            0              0              1              0   \n",
              "1    19.0012      5            1              0              0              0   \n",
              "2    22.0028    139            0              1              0              0   \n",
              "3     8.9981    209            0              0              0              1   \n",
              "4    19.0012    184            1              0              0              0   \n",
              "\n",
              "   weather_ Clear + Few clouds  weather_ Light Snow, Light Rain  \\\n",
              "0                            1                                0   \n",
              "1                            1                                0   \n",
              "2                            1                                0   \n",
              "3                            1                                0   \n",
              "4                            1                                0   \n",
              "\n",
              "   weather_ Mist + Cloudy   \n",
              "0                        0  \n",
              "1                        0  \n",
              "2                        0  \n",
              "3                        0  \n",
              "4                        0  "
            ]
          },
          "metadata": {
            "tags": []
          },
          "execution_count": 38
        }
      ]
    },
    {
      "cell_type": "markdown",
      "metadata": {
        "id": "JIYbjyGuRvOy",
        "colab_type": "text"
      },
      "source": [
        "## Feature Importances"
      ]
    },
    {
      "cell_type": "code",
      "metadata": {
        "id": "zUCACF9ARvOz",
        "colab_type": "code",
        "colab": {},
        "outputId": "ee4f8b4b-3cc0-4b9a-a7b2-55a43f71a1ea"
      },
      "source": [
        "from sklearn.ensemble import RandomForestRegressor \n",
        "regressor =RandomForestRegressor() \n",
        "X=train_data.drop([\"label\",\"datetime\"],axis=1)\n",
        "Y=train_data[\"label\"]\n",
        "regressor.fit(X,Y)\n",
        "sns.barplot(X.columns,regressor.feature_importances_)\n",
        "plt.tick_params(axis=\"x\",rotation=45)"
      ],
      "execution_count": 0,
      "outputs": [
        {
          "output_type": "display_data",
          "data": {
            "image/png": "[encoded data removed]",
            "text/plain": [
              "<Figure size 432x288 with 1 Axes>"
            ]
          },
          "metadata": {
            "tags": [],
            "needs_background": "light"
          }
        }
      ]
    },
    {
      "cell_type": "markdown",
      "metadata": {
        "id": "Io6Yna92RvO1",
        "colab_type": "text"
      },
      "source": [
        "## Feature Selection On Train And Test Data"
      ]
    },
    {
      "cell_type": "markdown",
      "metadata": {
        "id": "UzOfjwxnRvO2",
        "colab_type": "text"
      },
      "source": [
        "For Label_Encoding"
      ]
    },
    {
      "cell_type": "code",
      "metadata": {
        "id": "ZFHplBauRvO2",
        "colab_type": "code",
        "colab": {}
      },
      "source": [
        "X=train_data.drop([\"label\",\"datetime\",\"temp\"],axis=1) \n",
        "x=test_data.drop([\"datetime\",\"temp\"],axis=1)\n",
        "Y=train_data[\"label\"]\n",
        "y=test_label"
      ],
      "execution_count": 0,
      "outputs": []
    },
    {
      "cell_type": "markdown",
      "metadata": {
        "id": "CtKeA96ARvO5",
        "colab_type": "text"
      },
      "source": [
        "For Get_Dummies"
      ]
    },
    {
      "cell_type": "code",
      "metadata": {
        "id": "ti9YK1QLRvO5",
        "colab_type": "code",
        "colab": {}
      },
      "source": [
        "X=Train_data.drop([\"label\",\"datetime\",\"temp\"],axis=1) \n",
        "x=Test_data.drop([\"temp\"],axis=1)\n",
        "Y=Train_data[\"label\"]\n",
        "y=test_label"
      ],
      "execution_count": 0,
      "outputs": []
    },
    {
      "cell_type": "markdown",
      "metadata": {
        "id": "000CJAS7RvO-",
        "colab_type": "text"
      },
      "source": [
        "## GridSearch &  Regression Analysis"
      ]
    },
    {
      "cell_type": "code",
      "metadata": {
        "id": "y9ekhPSsRvPA",
        "colab_type": "code",
        "colab": {}
      },
      "source": [
        "from sklearn.model_selection import GridSearchCV\n",
        "n_estimators=np.arange(50,350,50)\n",
        "l_rate=np.arange(0.1,1.1,0.1)\n",
        "alpha=np.arange(0.1,0.9,0.1)"
      ],
      "execution_count": 0,
      "outputs": []
    },
    {
      "cell_type": "markdown",
      "metadata": {
        "id": "64UUGCkNRvPD",
        "colab_type": "text"
      },
      "source": [
        "# 1. Ada-Boost Regressor  \n",
        "\n",
        "## With Different Base Estimator"
      ]
    },
    {
      "cell_type": "code",
      "metadata": {
        "id": "oWZXx4BuRvPD",
        "colab_type": "code",
        "colab": {}
      },
      "source": [
        "from sklearn.ensemble import AdaBoostRegressor\n",
        "model=AdaBoostRegressor()"
      ],
      "execution_count": 0,
      "outputs": []
    },
    {
      "cell_type": "markdown",
      "metadata": {
        "id": "gnL8bvrLRvPI",
        "colab_type": "text"
      },
      "source": [
        "### Different Base Estimator"
      ]
    },
    {
      "cell_type": "code",
      "metadata": {
        "id": "UIwoG_tYRvPJ",
        "colab_type": "code",
        "colab": {}
      },
      "source": [
        "from sklearn.ensemble import RandomForestRegressor as RFR\n",
        "from sklearn.svm import SVR\n",
        "from sklearn.tree import DecisionTreeRegressor as DTR"
      ],
      "execution_count": 0,
      "outputs": []
    },
    {
      "cell_type": "markdown",
      "metadata": {
        "id": "UuSuS67wRvPN",
        "colab_type": "text"
      },
      "source": [
        "### Setting Param_Grid"
      ]
    },
    {
      "cell_type": "code",
      "metadata": {
        "id": "fg-SrOpoRvPN",
        "colab_type": "code",
        "colab": {},
        "outputId": "65dc9409-efe6-4baa-cd6a-97bbbf7905b5"
      },
      "source": [
        "param_grid={\"n_estimators\":n_estimators,\"learning_rate\":l_rate,\"base_estimator\":[RFR(),DTR(),SVR()]}\n",
        "gcv=GridSearchCV(model,param_grid)\n",
        "gcv.fit(X,Y) "
      ],
      "execution_count": 0,
      "outputs": [
        {
          "output_type": "execute_result",
          "data": {
            "text/plain": [
              "GridSearchCV(cv='warn', error_score='raise-deprecating',\n",
              "             estimator=AdaBoostRegressor(base_estimator=None, learning_rate=1.0,\n",
              "                                         loss='linear', n_estimators=50,\n",
              "                                         random_state=None),\n",
              "             iid='warn', n_jobs=None,\n",
              "             param_grid={'base_estimator': [RandomForestRegressor(bootstrap=True,\n",
              "                                                                  criterion='mse',\n",
              "                                                                  max_depth=None,\n",
              "                                                                  max_features='auto',\n",
              "                                                                  max_leaf_nodes=None,\n",
              "                                                                  min_impurity_decrea...\n",
              "                                                                  splitter='best'),\n",
              "                                            SVR(C=1.0, cache_size=200,\n",
              "                                                coef0=0.0, degree=3,\n",
              "                                                epsilon=0.1,\n",
              "                                                gamma='auto_deprecated',\n",
              "                                                kernel='rbf', max_iter=-1,\n",
              "                                                shrinking=True, tol=0.001,\n",
              "                                                verbose=False)],\n",
              "                         'learning_rate': array([0.1, 0.2, 0.3, 0.4, 0.5, 0.6, 0.7, 0.8, 0.9, 1. ]),\n",
              "                         'n_estimators': array([ 50, 100, 150, 200, 250, 300])},\n",
              "             pre_dispatch='2*n_jobs', refit=True, return_train_score=False,\n",
              "             scoring=None, verbose=0)"
            ]
          },
          "metadata": {
            "tags": []
          },
          "execution_count": 21
        }
      ]
    },
    {
      "cell_type": "markdown",
      "metadata": {
        "id": "Yh4Ev5ywRvPS",
        "colab_type": "text"
      },
      "source": [
        "### Getting Best Suitable_parameters"
      ]
    },
    {
      "cell_type": "code",
      "metadata": {
        "id": "LuPqVfpwRvPS",
        "colab_type": "code",
        "colab": {},
        "outputId": "6f9ab965-0505-4c41-fe46-3f445b31dc24"
      },
      "source": [
        "gcv.best_params_"
      ],
      "execution_count": 0,
      "outputs": [
        {
          "output_type": "execute_result",
          "data": {
            "text/plain": [
              "{'base_estimator': RandomForestRegressor(bootstrap=True, criterion='mse', max_depth=None,\n",
              "                       max_features='auto', max_leaf_nodes=None,\n",
              "                       min_impurity_decrease=0.0, min_impurity_split=None,\n",
              "                       min_samples_leaf=1, min_samples_split=2,\n",
              "                       min_weight_fraction_leaf=0.0, n_estimators='warn',\n",
              "                       n_jobs=None, oob_score=False, random_state=None,\n",
              "                       verbose=0, warm_start=False),\n",
              " 'learning_rate': 0.1,\n",
              " 'n_estimators': 300}"
            ]
          },
          "metadata": {
            "tags": []
          },
          "execution_count": 22
        }
      ]
    },
    {
      "cell_type": "markdown",
      "metadata": {
        "id": "glWcjfWLRvPV",
        "colab_type": "text"
      },
      "source": [
        "### Creating Model with Best Param_"
      ]
    },
    {
      "cell_type": "code",
      "metadata": {
        "id": "tSyv6zqCRvPV",
        "colab_type": "code",
        "colab": {},
        "outputId": "bfe8e7a9-7441-4fde-abc8-18dd623fd43c"
      },
      "source": [
        "from sklearn.ensemble import AdaBoostRegressor\n",
        "model=AdaBoostRegressor(learning_rate=0.0001,n_estimators=150,base_estimator=RFR(n_estimators=50))\n",
        "model.fit(X,Y)"
      ],
      "execution_count": 0,
      "outputs": [
        {
          "output_type": "execute_result",
          "data": {
            "text/plain": [
              "AdaBoostRegressor(base_estimator=RandomForestRegressor(bootstrap=True,\n",
              "                                                       criterion='mse',\n",
              "                                                       max_depth=None,\n",
              "                                                       max_features='auto',\n",
              "                                                       max_leaf_nodes=None,\n",
              "                                                       min_impurity_decrease=0.0,\n",
              "                                                       min_impurity_split=None,\n",
              "                                                       min_samples_leaf=1,\n",
              "                                                       min_samples_split=2,\n",
              "                                                       min_weight_fraction_leaf=0.0,\n",
              "                                                       n_estimators=50,\n",
              "                                                       n_jobs=None,\n",
              "                                                       oob_score=False,\n",
              "                                                       random_state=None,\n",
              "                                                       verbose=0,\n",
              "                                                       warm_start=False),\n",
              "                  learning_rate=0.0001, loss='linear', n_estimators=150,\n",
              "                  random_state=None)"
            ]
          },
          "metadata": {
            "tags": []
          },
          "execution_count": 43
        }
      ]
    },
    {
      "cell_type": "markdown",
      "metadata": {
        "id": "v6U6UHcXRvPY",
        "colab_type": "text"
      },
      "source": [
        "### MSE & R2_Score"
      ]
    },
    {
      "cell_type": "code",
      "metadata": {
        "id": "Ot7TU_xsRvPY",
        "colab_type": "code",
        "colab": {},
        "outputId": "60b24492-e2b8-4e06-964f-84f4b241c334"
      },
      "source": [
        "predict=model.predict(x)\n",
        "error=mean_squared_error(y,predict)\n",
        "r2s=r2_score(y,predict)\n",
        "print(error)\n",
        "print(r2s)"
      ],
      "execution_count": 0,
      "outputs": [
        {
          "output_type": "stream",
          "text": [
            "21984.78488247992\n",
            "0.31684077641259567\n"
          ],
          "name": "stdout"
        }
      ]
    },
    {
      "cell_type": "markdown",
      "metadata": {
        "id": "gz4RmuP6RvPc",
        "colab_type": "text"
      },
      "source": [
        "## 2.Gradient_Boost Regressor"
      ]
    },
    {
      "cell_type": "code",
      "metadata": {
        "id": "eldiEnXMRvPc",
        "colab_type": "code",
        "colab": {}
      },
      "source": [
        "from sklearn.ensemble import GradientBoostingRegressor\n",
        "model=GradientBoostingRegressor()"
      ],
      "execution_count": 0,
      "outputs": []
    },
    {
      "cell_type": "markdown",
      "metadata": {
        "id": "YvPepQcJRvPg",
        "colab_type": "text"
      },
      "source": [
        "### Finding Best Parameters"
      ]
    },
    {
      "cell_type": "code",
      "metadata": {
        "id": "qjR6iysrRvPh",
        "colab_type": "code",
        "colab": {},
        "outputId": "7c4c7344-cf2d-476e-de71-cac6f57b4f8a"
      },
      "source": [
        "param_grid={\"n_estimators\":n_estimators,\"learning_rate\":l_rate,\"max_depth\":[3,4,5,6],}\n",
        "gcv=GridSearchCV(model,param_grid)\n",
        "gcv.fit(X,Y) \n",
        "gcv.best_params_ "
      ],
      "execution_count": 0,
      "outputs": [
        {
          "output_type": "execute_result",
          "data": {
            "text/plain": [
              "{'learning_rate': 0.1, 'max_depth': 6, 'n_estimators': 50}"
            ]
          },
          "metadata": {
            "tags": []
          },
          "execution_count": 75
        }
      ]
    },
    {
      "cell_type": "markdown",
      "metadata": {
        "id": "87VRsayaRvPk",
        "colab_type": "text"
      },
      "source": [
        "### Creating Model"
      ]
    },
    {
      "cell_type": "code",
      "metadata": {
        "id": "grGTOnf5RvPk",
        "colab_type": "code",
        "colab": {},
        "outputId": "1c9d1906-a9e7-412e-ad4f-4aeae05fef5c"
      },
      "source": [
        "from sklearn.ensemble import GradientBoostingRegressor\n",
        "model=GradientBoostingRegressor(n_estimators=120,learning_rate=0.1,max_depth= 5,alpha=0.99999)\n",
        "model.fit(X,Y)"
      ],
      "execution_count": 0,
      "outputs": [
        {
          "output_type": "execute_result",
          "data": {
            "text/plain": [
              "GradientBoostingRegressor(alpha=0.99999, criterion='friedman_mse', init=None,\n",
              "                          learning_rate=0.1, loss='ls', max_depth=5,\n",
              "                          max_features=None, max_leaf_nodes=None,\n",
              "                          min_impurity_decrease=0.0, min_impurity_split=None,\n",
              "                          min_samples_leaf=1, min_samples_split=2,\n",
              "                          min_weight_fraction_leaf=0.0, n_estimators=120,\n",
              "                          n_iter_no_change=None, presort='auto',\n",
              "                          random_state=None, subsample=1.0, tol=0.0001,\n",
              "                          validation_fraction=0.1, verbose=0, warm_start=False)"
            ]
          },
          "metadata": {
            "tags": []
          },
          "execution_count": 68
        }
      ]
    },
    {
      "cell_type": "markdown",
      "metadata": {
        "id": "ctLwHxhBRvPr",
        "colab_type": "text"
      },
      "source": [
        "### MSE & R2_Score"
      ]
    },
    {
      "cell_type": "code",
      "metadata": {
        "id": "knipzk0kRvPs",
        "colab_type": "code",
        "colab": {},
        "outputId": "b95825ef-b172-47f7-9d9a-0e94340d27a2"
      },
      "source": [
        "from sklearn.metrics import mean_squared_error,r2_score\n",
        "predict=model.predict(x)\n",
        "error=mean_squared_error(y,predict)\n",
        "r2s=r2_score(y,predict)\n",
        "print(\"Mse:\",error)\n",
        "print(\"R2_score:\",round(r2s,3))"
      ],
      "execution_count": 0,
      "outputs": [
        {
          "output_type": "stream",
          "text": [
            "Mse: 20643.64457178878\n",
            "R2_score: 0.359\n"
          ],
          "name": "stdout"
        }
      ]
    },
    {
      "cell_type": "markdown",
      "metadata": {
        "id": "e_C6k61URvPx",
        "colab_type": "text"
      },
      "source": [
        "## Performing Various Other Algorithm With Gradient Boost Regressor"
      ]
    },
    {
      "cell_type": "markdown",
      "metadata": {
        "id": "u6_kna1HRvPy",
        "colab_type": "text"
      },
      "source": [
        "## Feature Extraction"
      ]
    },
    {
      "cell_type": "code",
      "metadata": {
        "id": "SJ4o7qXoRvPy",
        "colab_type": "code",
        "colab": {}
      },
      "source": [
        "from sklearn.discriminant_analysis import LinearDiscriminantAnalysis as LDA\n",
        "lda=LDA(n_components=3)\n",
        "x_train=lda.fit_transform(X,Y)\n",
        "x_test=lda.transform(x)"
      ],
      "execution_count": 0,
      "outputs": []
    },
    {
      "cell_type": "code",
      "metadata": {
        "id": "HGH64t0ZRvP2",
        "colab_type": "code",
        "colab": {},
        "outputId": "9cd1d612-bd27-42cb-fcfe-aae27582605e"
      },
      "source": [
        "param_grid={\"n_estimators\":n_estimators,\"learning_rate\":l_rate,\"max_depth\":[3,4,5,6],}\n",
        "gcv=GridSearchCV(model,param_grid)\n",
        "gcv.fit(x_train,Y) \n",
        "gcv.best_params_ "
      ],
      "execution_count": 0,
      "outputs": [
        {
          "output_type": "execute_result",
          "data": {
            "text/plain": [
              "{'learning_rate': 0.1, 'max_depth': 5, 'n_estimators': 50}"
            ]
          },
          "metadata": {
            "tags": []
          },
          "execution_count": 73
        }
      ]
    },
    {
      "cell_type": "code",
      "metadata": {
        "id": "YxiDriCQRvP8",
        "colab_type": "code",
        "colab": {},
        "outputId": "b5b74f25-b88a-4357-a815-244587fa9dec"
      },
      "source": [
        "from sklearn.ensemble import GradientBoostingRegressor\n",
        "model=GradientBoostingRegressor(n_estimators=50,learning_rate=0.1,max_depth= 5,alpha=0.99999)\n",
        "model.fit(x_train,Y)"
      ],
      "execution_count": 0,
      "outputs": [
        {
          "output_type": "execute_result",
          "data": {
            "text/plain": [
              "GradientBoostingRegressor(alpha=0.99999, criterion='friedman_mse', init=None,\n",
              "                          learning_rate=0.1, loss='ls', max_depth=5,\n",
              "                          max_features=None, max_leaf_nodes=None,\n",
              "                          min_impurity_decrease=0.0, min_impurity_split=None,\n",
              "                          min_samples_leaf=1, min_samples_split=2,\n",
              "                          min_weight_fraction_leaf=0.0, n_estimators=50,\n",
              "                          n_iter_no_change=None, presort='auto',\n",
              "                          random_state=None, subsample=1.0, tol=0.0001,\n",
              "                          validation_fraction=0.1, verbose=0, warm_start=False)"
            ]
          },
          "metadata": {
            "tags": []
          },
          "execution_count": 78
        }
      ]
    },
    {
      "cell_type": "code",
      "metadata": {
        "id": "x8UWkxNtRvQC",
        "colab_type": "code",
        "colab": {},
        "outputId": "4a525b02-a93b-44ef-c3e6-e2ee585105a9"
      },
      "source": [
        "from sklearn.metrics import mean_squared_error,r2_score\n",
        "predict=model.predict(x_test)\n",
        "error=mean_squared_error(y,predict)\n",
        "r2s=r2_score(y,predict)\n",
        "print(error)\n",
        "print(r2s)"
      ],
      "execution_count": 0,
      "outputs": [
        {
          "output_type": "stream",
          "text": [
            "21445.03877885565\n",
            "0.33361294548576825\n"
          ],
          "name": "stdout"
        }
      ]
    },
    {
      "cell_type": "markdown",
      "metadata": {
        "id": "IFWD4KTcRvQG",
        "colab_type": "text"
      },
      "source": [
        "## Standard Scaling"
      ]
    },
    {
      "cell_type": "code",
      "metadata": {
        "id": "c0keOVI-RvQG",
        "colab_type": "code",
        "colab": {}
      },
      "source": [
        "from sklearn.preprocessing import StandardScaler\n",
        "scalar=StandardScaler()\n",
        "X_scaled=scalar.fit_transform(X)\n",
        "X_test_scaled=scalar.fit_transform(x)"
      ],
      "execution_count": 0,
      "outputs": []
    },
    {
      "cell_type": "code",
      "metadata": {
        "id": "9lmLOUfFRvQK",
        "colab_type": "code",
        "colab": {},
        "outputId": "59249213-435a-4870-9b7e-7ae4fc5753bc"
      },
      "source": [
        "param_grid={\"n_estimators\":n_estimators,\"learning_rate\":l_rate,\"max_depth\":[3,4,5,6],}\n",
        "gcv=GridSearchCV(model,param_grid)\n",
        "gcv.fit(X_scaled,Y) \n",
        "gcv.best_params_ "
      ],
      "execution_count": 0,
      "outputs": [
        {
          "output_type": "execute_result",
          "data": {
            "text/plain": [
              "{'learning_rate': 0.1, 'max_depth': 5, 'n_estimators': 50}"
            ]
          },
          "metadata": {
            "tags": []
          },
          "execution_count": 43
        }
      ]
    },
    {
      "cell_type": "code",
      "metadata": {
        "id": "wWY5g1QFRvQM",
        "colab_type": "code",
        "colab": {},
        "outputId": "0f08e96a-cbb2-4352-f234-89229a5e2be0"
      },
      "source": [
        "from sklearn.ensemble import GradientBoostingRegressor\n",
        "model=GradientBoostingRegressor(n_estimators=50,learning_rate=0.1,max_depth= 5,alpha=0.99999)\n",
        "model.fit(X_scaled,Y)"
      ],
      "execution_count": 0,
      "outputs": [
        {
          "output_type": "execute_result",
          "data": {
            "text/plain": [
              "GradientBoostingRegressor(alpha=0.99999, criterion='friedman_mse', init=None,\n",
              "                          learning_rate=0.1, loss='ls', max_depth=5,\n",
              "                          max_features=None, max_leaf_nodes=None,\n",
              "                          min_impurity_decrease=0.0, min_impurity_split=None,\n",
              "                          min_samples_leaf=1, min_samples_split=2,\n",
              "                          min_weight_fraction_leaf=0.0, n_estimators=50,\n",
              "                          n_iter_no_change=None, presort='auto',\n",
              "                          random_state=None, subsample=1.0, tol=0.0001,\n",
              "                          validation_fraction=0.1, verbose=0, warm_start=False)"
            ]
          },
          "metadata": {
            "tags": []
          },
          "execution_count": 82
        }
      ]
    },
    {
      "cell_type": "code",
      "metadata": {
        "id": "IA0-xzSiRvQO",
        "colab_type": "code",
        "colab": {},
        "outputId": "a08f5bc5-7740-489f-c162-f9ded2a7abf0"
      },
      "source": [
        "from sklearn.metrics import mean_squared_error,r2_score\n",
        "predict=model.predict(X_test_scaled)\n",
        "error=mean_squared_error(y,predict)\n",
        "r2s=r2_score(y,predict)\n",
        "print(r2s)"
      ],
      "execution_count": 0,
      "outputs": [
        {
          "output_type": "stream",
          "text": [
            "0.34945396613205604\n"
          ],
          "name": "stdout"
        }
      ]
    },
    {
      "cell_type": "markdown",
      "metadata": {
        "id": "nmmmv0etRvQQ",
        "colab_type": "text"
      },
      "source": [
        "## The Best Result For the Data Is So Far is Given By Gradient Boost Regressor\n",
        "\n",
        "###  With R2_Score =0.359 with No Feature Extraction Or Scaling"
      ]
    }
  ]
}